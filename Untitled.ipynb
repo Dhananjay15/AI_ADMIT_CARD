{
 "cells": [
  {
   "cell_type": "code",
   "execution_count": null,
   "id": "6a5764d0",
   "metadata": {},
   "outputs": [],
   "source": [
    "path = PPHOTO_path\n",
    "\n",
    "test_image = image.load_img(path, target_size = (64, 64))\n",
    "test_image = image.img_to_array(test_image)\n",
    "test_image = np.expand_dims(test_image, axis = 0)\n",
    "result = model.predict(test_image)\n",
    "if  result[0][0] == 1:\n",
    "    prediction = 'SIGN'\n",
    "else:\n",
    "    prediction = 'PPHOTO'"
   ]
  },
  {
   "cell_type": "code",
   "execution_count": 5,
   "id": "848341bb",
   "metadata": {},
   "outputs": [
    {
     "data": {
      "text/plain": [
       "108"
      ]
     },
     "execution_count": 5,
     "metadata": {},
     "output_type": "execute_result"
    }
   ],
   "source": [
    "import glob\n",
    "from tensorflow import keras\n",
    "import numpy as np\n",
    "import tensorflow as tf\n",
    "from keras.preprocessing import image\n",
    "\n",
    "model_path = './m'\n",
    "model = tf.keras.models.load_model(model_path)\n",
    "\n",
    "l=[]\n",
    "path =r'C:\\Users\\dhana\\Downloads\\check\\*'\n",
    "for bb,file in enumerate (glob.glob(path)):\n",
    "    test_image = image.load_img(file, target_size = (64, 64))\n",
    "    test_image = image.img_to_array(test_image)\n",
    "    test_image = np.expand_dims(test_image, axis = 0)\n",
    "    result = model.predict(test_image)\n",
    "    if  result[0][0] == 1:\n",
    "        prediction = 'SIGN'\n",
    "    else:\n",
    "        prediction = 'PPHOTO'\n",
    "    l.append(prediction)\n",
    "\n",
    "l.count('PPHOTO')"
   ]
  },
  {
   "cell_type": "code",
   "execution_count": 4,
   "id": "a1f186c6",
   "metadata": {},
   "outputs": [
    {
     "data": {
      "text/plain": [
       "3156"
      ]
     },
     "execution_count": 4,
     "metadata": {},
     "output_type": "execute_result"
    }
   ],
   "source": []
  }
 ],
 "metadata": {
  "kernelspec": {
   "display_name": "Python 3 (ipykernel)",
   "language": "python",
   "name": "python3"
  },
  "language_info": {
   "codemirror_mode": {
    "name": "ipython",
    "version": 3
   },
   "file_extension": ".py",
   "mimetype": "text/x-python",
   "name": "python",
   "nbconvert_exporter": "python",
   "pygments_lexer": "ipython3",
   "version": "3.7.12"
  }
 },
 "nbformat": 4,
 "nbformat_minor": 5
}
